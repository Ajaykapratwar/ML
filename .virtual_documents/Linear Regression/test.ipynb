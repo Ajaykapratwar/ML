import pandas as pd
import numpy as np
import matplotlib.pyplot as plt
%matplotlib inline
import seaborn as sns


df = pd.read_csv('height-weight.csv')


df.head()


plt.scatter(df['Weight'], df['Height'])
plt.show()


df.corr()


sns.pairplot(df)
plt.show()


X = df[['Weight']]
y = df['Height']


X


y


from sklearn.model_selection import train_test_split
X_train, X_test, y_train, y_test = train_test_split(X, y, test_size=0.25, random_state=42)


X_train


X_test


from sklearn.preprocessing import StandardScaler

scaler = StandardScaler()


X_train = scaler.fit_transform(X_train)


X_test = scaler.transform(X_test)


X_test


from sklearn.linear_model import LinearRegression

regression = LinearRegression()

regression.fit(X_train, y_train)
y_pred = regression.predict(X_test)


print(regression.coef_)
print(regression.intercept_)


plt.scatter(X_train, y_train)
plt.plot(X_train, regression.predict(X_train))
plt.show()


from sklearn.metrics import mean_absolute_error, mean_squared_error


mae = mean_absolute_error(y_test, y_pred)
mse = mean_squared_error(y_test, y_pred)
mae, mse



