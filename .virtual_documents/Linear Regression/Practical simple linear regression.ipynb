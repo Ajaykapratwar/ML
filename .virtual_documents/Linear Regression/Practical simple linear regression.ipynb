


import pandas as pd
import numpy as np
import matplotlib.pyplot as plt
%matplotlib inline
import seaborn as sns


df = pd.read_csv('height-weight.csv')


df.head()


plt.scatter(df['Weight'], df['Height'])
plt.xlabel('Weight')
plt.ylabel('Height')
plt.show()


# correlation
df.corr()


## use of seaborn for visualization
sns.pairplot(df)
plt.show()


# create separate columns for independent and dependent features
X = df[['Weight']]   ### independent features should be data frame or 2 dimensional array
y = df['Height']   ## this variable can be in series or 1d array


X.head()


X_series = df['Weight']
np.array(X_series).shape


np.array(y).shape


## Train test split
from sklearn.model_selection import train_test_split


X_train, X_test, y_train, y_test = train_test_split(X, y, test_size=0.25, random_state=42)


# standardization
from sklearn.preprocessing import StandardScaler


scaler = StandardScaler()


X_train = scaler.fit_transform(X_train)


X_test = scaler.transform(X_test)


X_test


## Applying simple linear regression

from sklearn.linear_model import LinearRegression


regression = LinearRegression(n_jobs=-1)


regression.fit(X_train, y_train)


print("Coefficient or Slope : ", regression.coef_)
print("Intercept : ", regression.intercept_)


## Plot best fit line of training data

plt.scatter(X_train, y_train)
plt.plot(X_train, regression.predict(X_train))
plt.show()





## prediction of test data
y_pred = regression.predict(X_test)


## Performance metrics
from sklearn.metrics import mean_absolute_error, mean_squared_error


mse = mean_squared_error(y_test, y_pred)
mae = mean_absolute_error(y_test, y_pred)
rmse = np.sqrt(mse)
print(mse)
print(mae)
print(rmse)





from sklearn.metrics import r2_score


score = r2_score(y_test, y_pred)
print(score)





# display adjusted r squared
1 - (1 - score) * (len(y_test) - 1) / (len(y_test) - X_test.shape[1] - 1)





import statsmodels.api as sm


model = sm.OLS(y_train, X_train).fit()


prediction = model.predict(X_test)
print(prediction)


print(model.summary())


## prediction for new data

regression.predict(scaler.transform([[62]]))



